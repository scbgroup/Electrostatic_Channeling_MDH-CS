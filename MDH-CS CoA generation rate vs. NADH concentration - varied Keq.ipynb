{
 "cells": [
  {
   "cell_type": "markdown",
   "id": "12d7ee8f",
   "metadata": {},
   "source": [
    "# MDH-CS mixed desorption - reversible MDH kinetics and varience of fixed NADH concentration with a varied value of Keq"
   ]
  },
  {
   "cell_type": "code",
   "execution_count": 1,
   "id": "047194a7",
   "metadata": {
    "scrolled": true
   },
   "outputs": [],
   "source": [
    "from pylab import *\n",
    "import pandas as pd\n",
    "from ipywidgets import interact, FloatLogSlider"
   ]
  },
  {
   "cell_type": "markdown",
   "id": "6ba80859-648e-4414-91fe-addd91b21bdb",
   "metadata": {},
   "source": [
    "# Import Data"
   ]
  },
  {
   "cell_type": "code",
   "execution_count": 2,
   "id": "750dd16a-dec7-4a15-8b92-19e19ca02a4e",
   "metadata": {},
   "outputs": [],
   "source": [
    "df = pd.read_csv('data/rCoA_v_C_NADH_varKeq.csv')"
   ]
  },
  {
   "cell_type": "markdown",
   "id": "addc9fa6-d6d5-4f79-a5b2-25031a1d7258",
   "metadata": {},
   "source": [
    "# Create plot with slider bar for value of Keq"
   ]
  },
  {
   "cell_type": "code",
   "execution_count": 3,
   "id": "c2b99fc8-9eaa-411c-aa4c-1b43bac07c65",
   "metadata": {},
   "outputs": [],
   "source": [
    "# define parameters for slider\n",
    "# min exponent\n",
    "min = -5\n",
    "# max exponent\n",
    "max = -1\n",
    "# exponent step size\n",
    "step = 0.2\n",
    "# number of steps\n",
    "nsteps = int(1 + ((max - min)/step))\n",
    "\n",
    "Keqs = logspace(min, max, nsteps)"
   ]
  },
  {
   "cell_type": "code",
   "execution_count": 4,
   "id": "8cfd3e6d-d08c-482c-9ff0-5e2ae3b27eb6",
   "metadata": {},
   "outputs": [],
   "source": [
    "# Plot ratio vs. C_NADH with slider bar\n",
    "# Create a function to control figure generation\n",
    "def plot_function(Keq_val):\n",
    "    # define x from NADH concentrations in df \n",
    "    x = df['C_NADH / mM']\n",
    "    # calculate error between df Keq keys and value given\n",
    "    yerr = abs(array([float(l) for l in list(df.keys()[2:])])-Keq_val) \n",
    "    # define y by df data key closest to Keq_val\n",
    "    y = df[df.keys()[2:][yerr.argmin()]]\n",
    "\n",
    "    # plot\n",
    "    fig, ax = subplots()\n",
    "    semilogx(x,y, label = 'K$_{eq}$ = '+f'{Keq_val:.2e}')\n",
    "    semilogx(x,df.iloc[:,2], '--', color = 'C1', label = 'K$_{eq}$ = '+df.keys()[2])\n",
    "    semilogx(x,df.iloc[:,-1], ':', color = 'C1', label = 'K$_{eq}$ = '+df.keys()[-1])\n",
    "    \n",
    "    xlabel('$C_\\mathrm{NADH}$ / mM')\n",
    "    ylabel('$r_\\mathrm{CoA, Channeled}$ \\ $r_\\mathrm{CoA, Free}$')\n",
    "    ylim(0,12)\n",
    "    xlim(5e-8,1)\n",
    "    legend(bbox_to_anchor = (1,1))\n",
    "\n",
    "    show()"
   ]
  },
  {
   "cell_type": "code",
   "execution_count": 5,
   "id": "c92bd6a9-a768-4de2-92dc-b188f041d621",
   "metadata": {},
   "outputs": [
    {
     "data": {
      "application/vnd.jupyter.widget-view+json": {
       "model_id": "9e5dd6139f214a82a48164dbea3f9cee",
       "version_major": 2,
       "version_minor": 0
      },
      "text/plain": [
       "interactive(children=(FloatLogSlider(value=3e-05, description='Keq_val', max=-1.0, min=-5.0, readout_format='.…"
      ]
     },
     "metadata": {},
     "output_type": "display_data"
    },
    {
     "data": {
      "text/plain": [
       "<function __main__.plot_function(Keq_val)>"
      ]
     },
     "execution_count": 5,
     "metadata": {},
     "output_type": "execute_result"
    }
   ],
   "source": [
    "# create slider to control Keq\n",
    "interact(plot_function, Keq_val = FloatLogSlider(value = 3e-5, \n",
    "                                                 base = 10, min = min, max = max, step = step,\n",
    "                                                 readout_format = '.2e'))"
   ]
  },
  {
   "cell_type": "code",
   "execution_count": null,
   "id": "c96cc364-3409-4038-b2a4-79300545c04e",
   "metadata": {},
   "outputs": [],
   "source": []
  }
 ],
 "metadata": {
  "hide_input": false,
  "kernelspec": {
   "display_name": "Python 3 (ipykernel)",
   "language": "python",
   "name": "python3"
  },
  "language_info": {
   "codemirror_mode": {
    "name": "ipython",
    "version": 3
   },
   "file_extension": ".py",
   "mimetype": "text/x-python",
   "name": "python",
   "nbconvert_exporter": "python",
   "pygments_lexer": "ipython3",
   "version": "3.11.8"
  },
  "toc": {
   "base_numbering": 1,
   "nav_menu": {},
   "number_sections": false,
   "sideBar": true,
   "skip_h1_title": false,
   "title_cell": "Table of Contents",
   "title_sidebar": "Contents",
   "toc_cell": false,
   "toc_position": {
    "height": "calc(100% - 180px)",
    "left": "10px",
    "top": "150px",
    "width": "196px"
   },
   "toc_section_display": true,
   "toc_window_display": true
  },
  "varInspector": {
   "cols": {
    "lenName": 16,
    "lenType": 16,
    "lenVar": 40
   },
   "kernels_config": {
    "python": {
     "delete_cmd_postfix": "",
     "delete_cmd_prefix": "del ",
     "library": "var_list.py",
     "varRefreshCmd": "print(var_dic_list())"
    },
    "r": {
     "delete_cmd_postfix": ") ",
     "delete_cmd_prefix": "rm(",
     "library": "var_list.r",
     "varRefreshCmd": "cat(var_dic_list()) "
    }
   },
   "types_to_exclude": [
    "module",
    "function",
    "builtin_function_or_method",
    "instance",
    "_Feature"
   ],
   "window_display": false
  }
 },
 "nbformat": 4,
 "nbformat_minor": 5
}
